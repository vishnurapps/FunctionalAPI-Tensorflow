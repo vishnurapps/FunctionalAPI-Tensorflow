{
  "nbformat": 4,
  "nbformat_minor": 0,
  "metadata": {
    "kernelspec": {
      "display_name": "Python 3",
      "language": "python",
      "name": "python3"
    },
    "language_info": {
      "codemirror_mode": {
        "name": "ipython",
        "version": 3
      },
      "file_extension": ".py",
      "mimetype": "text/x-python",
      "name": "python",
      "nbconvert_exporter": "python",
      "pygments_lexer": "ipython3",
      "version": "3.6.8"
    },
    "colab": {
      "name": "IRIS Functional API.ipynb",
      "provenance": [],
      "include_colab_link": true
    }
  },
  "cells": [
    {
      "cell_type": "markdown",
      "metadata": {
        "id": "view-in-github",
        "colab_type": "text"
      },
      "source": [
        "<a href=\"https://colab.research.google.com/github/vishnurapps/FunctionalAPI-Tensorflow/blob/master/IRIS_Functional_API.ipynb\" target=\"_parent\"><img src=\"https://colab.research.google.com/assets/colab-badge.svg\" alt=\"Open In Colab\"/></a>"
      ]
    },
    {
      "cell_type": "code",
      "metadata": {
        "id": "R3aP4kI6zHsd",
        "colab_type": "code",
        "colab": {}
      },
      "source": [
        "##importing all required modules\n",
        "import numpy as np\n",
        "import pandas as pd\n",
        "import sklearn\n",
        "import tensorflow as tf"
      ],
      "execution_count": 0,
      "outputs": []
    },
    {
      "cell_type": "code",
      "metadata": {
        "id": "E2V8F4RczHtF",
        "colab_type": "code",
        "colab": {}
      },
      "source": [
        "from sklearn import datasets\n",
        "iris = datasets.load_iris()\n",
        "X = iris.data\n",
        "Y = iris.target"
      ],
      "execution_count": 0,
      "outputs": []
    },
    {
      "cell_type": "code",
      "metadata": {
        "id": "YbQbP6rrzHtZ",
        "colab_type": "code",
        "outputId": "046fda2f-93a7-44a7-f40c-d4a8014cf685",
        "colab": {
          "base_uri": "https://localhost:8080/",
          "height": 50
        }
      },
      "source": [
        "print(X.shape)\n",
        "print(Y.shape)"
      ],
      "execution_count": 20,
      "outputs": [
        {
          "output_type": "stream",
          "text": [
            "(150, 4)\n",
            "(150,)\n"
          ],
          "name": "stdout"
        }
      ]
    },
    {
      "cell_type": "code",
      "metadata": {
        "id": "QLBgQkBLzHto",
        "colab_type": "code",
        "colab": {}
      },
      "source": [
        "#train test split\n",
        "from sklearn.model_selection import train_test_split\n",
        "X_train, X_test, y_train, y_test = train_test_split(X, Y, test_size=0.2, random_state=30,stratify=Y)"
      ],
      "execution_count": 0,
      "outputs": []
    },
    {
      "cell_type": "code",
      "metadata": {
        "id": "VwyGWQPBzHt6",
        "colab_type": "code",
        "outputId": "2b243e37-5373-4dde-f51a-51716393be6e",
        "colab": {
          "base_uri": "https://localhost:8080/",
          "height": 50
        }
      },
      "source": [
        "print(\"train data shape\",X_train.shape)\n",
        "print(\"test data shape\",X_test.shape)"
      ],
      "execution_count": 22,
      "outputs": [
        {
          "output_type": "stream",
          "text": [
            "train data shape (120, 4)\n",
            "test data shape (30, 4)\n"
          ],
          "name": "stdout"
        }
      ]
    },
    {
      "cell_type": "code",
      "metadata": {
        "id": "hyGz0mqRzHuN",
        "colab_type": "code",
        "colab": {}
      },
      "source": [
        "##convert Y to one hot coding vectors\n",
        "from sklearn.preprocessing import OneHotEncoder\n",
        "encoder = OneHotEncoder(categories='auto')\n",
        "y_train_ohe = encoder.fit_transform(y_train.reshape(-1,1))\n",
        "y_test_ohe = encoder.transform(y_test.reshape(-1,1))\n",
        "y_train_ohe = y_train_ohe.toarray()\n",
        "y_test_ohe = y_test_ohe.toarray()"
      ],
      "execution_count": 0,
      "outputs": []
    },
    {
      "cell_type": "code",
      "metadata": {
        "id": "w68y8MLCzHue",
        "colab_type": "code",
        "outputId": "e82d20c7-500a-423a-98b8-163ba55c58c3",
        "colab": {
          "base_uri": "https://localhost:8080/",
          "height": 50
        }
      },
      "source": [
        "print(\"shape of train labels\",y_train_ohe.shape)\n",
        "print(\"shape of test labels\",y_test_ohe.shape)"
      ],
      "execution_count": 24,
      "outputs": [
        {
          "output_type": "stream",
          "text": [
            "shape of train labels (120, 3)\n",
            "shape of test labels (30, 3)\n"
          ],
          "name": "stdout"
        }
      ]
    },
    {
      "cell_type": "code",
      "metadata": {
        "id": "v_c1-U4RzHur",
        "colab_type": "code",
        "colab": {}
      },
      "source": [
        "#importing layers from tensorflow\n",
        "from tensorflow.keras.layers import Dense,concatenate,Activation,Dropout,Input\n",
        "from tensorflow.keras.models import Model"
      ],
      "execution_count": 0,
      "outputs": []
    },
    {
      "cell_type": "markdown",
      "metadata": {
        "id": "iahvtDh7KvgR",
        "colab_type": "text"
      },
      "source": [
        "## Simple model using functional API"
      ]
    },
    {
      "cell_type": "markdown",
      "metadata": {
        "id": "s-igVf6XzHuz",
        "colab_type": "text"
      },
      "source": [
        "<pre><b>Simple Model using tf.keras Functional API</b>\n",
        "<pre> We are writing code to Build model as below \n",
        "\n",
        "<img src=\"https://i.imgur.com/i1Lpk22.png\"></pre><pre>"
      ]
    },
    {
      "cell_type": "code",
      "metadata": {
        "id": "fCsd03Q4zHu1",
        "colab_type": "code",
        "colab": {}
      },
      "source": [
        "#clearing the graph of tensorflow\n",
        "tf.keras.backend.clear_session()\n",
        "\n",
        "# input to the model ( Input Layer )\n",
        "Input_model = Input(shape=(4,),name=\"iris_input\")\n",
        "\n",
        "# layer 1\n",
        "layer1 = Dense(units=32,activation='relu',kernel_initializer='he_normal',name=\"layer1\")(Input_model)#we are giving output of input layer\n",
        "#we got layer1 --> output of the first layer\n",
        "\n",
        "# layer 2\n",
        "layer2 = Dense(units=16,activation='relu',kernel_initializer='he_normal',name='layer2')(layer1)#we are giving output of first layer\n",
        "#we got layer2 --> output of the second layer\n",
        "\n",
        "#output\n",
        "output = Dense(units=3,activation='softmax',kernel_initializer=\"glorot_uniform\",name='output')(layer2)#we are giving output of second layer\n",
        "\n",
        "# till now we connected all the network from input to output. \n",
        "# Now we have to create a model for this you have to give what is the input layer and what is the output layer\n",
        "\n",
        "model = Model(inputs=Input_model,outputs=output) # we specified the model input and output\n"
      ],
      "execution_count": 0,
      "outputs": []
    },
    {
      "cell_type": "code",
      "metadata": {
        "id": "kL_kiMv-zHu5",
        "colab_type": "code",
        "outputId": "68d9635b-ea0d-480b-93f0-a6b8a056b6f4",
        "colab": {
          "base_uri": "https://localhost:8080/",
          "height": 283
        }
      },
      "source": [
        "#summary of the model\n",
        "model.summary()"
      ],
      "execution_count": 27,
      "outputs": [
        {
          "output_type": "stream",
          "text": [
            "Model: \"model\"\n",
            "_________________________________________________________________\n",
            "Layer (type)                 Output Shape              Param #   \n",
            "=================================================================\n",
            "iris_input (InputLayer)      [(None, 4)]               0         \n",
            "_________________________________________________________________\n",
            "layer1 (Dense)               (None, 32)                160       \n",
            "_________________________________________________________________\n",
            "layer2 (Dense)               (None, 16)                528       \n",
            "_________________________________________________________________\n",
            "output (Dense)               (None, 3)                 51        \n",
            "=================================================================\n",
            "Total params: 739\n",
            "Trainable params: 739\n",
            "Non-trainable params: 0\n",
            "_________________________________________________________________\n"
          ],
          "name": "stdout"
        }
      ]
    },
    {
      "cell_type": "code",
      "metadata": {
        "id": "nKS_S53szHu_",
        "colab_type": "code",
        "colab": {}
      },
      "source": [
        "#compile \n",
        "model.compile(optimizer=tf.keras.optimizers.RMSprop(lr=0.001),loss='categorical_crossentropy',metrics=['accuracy'])"
      ],
      "execution_count": 0,
      "outputs": []
    },
    {
      "cell_type": "code",
      "metadata": {
        "id": "gS4LHI5nzHvD",
        "colab_type": "code",
        "outputId": "6b65a2a5-39f7-4e68-c458-f6dc70ce2c55",
        "colab": {
          "base_uri": "https://localhost:8080/",
          "height": 216
        }
      },
      "source": [
        "#train\n",
        "model.fit(X_train,y_train_ohe,batch_size=16,epochs=5,validation_data=(X_test,y_test_ohe))"
      ],
      "execution_count": 29,
      "outputs": [
        {
          "output_type": "stream",
          "text": [
            "Train on 120 samples, validate on 30 samples\n",
            "Epoch 1/5\n",
            "120/120 [==============================] - 0s 831us/sample - loss: 4.1034 - acc: 0.3333 - val_loss: 2.5979 - val_acc: 0.3333\n",
            "Epoch 2/5\n",
            "120/120 [==============================] - 0s 141us/sample - loss: 1.9943 - acc: 0.3333 - val_loss: 1.4546 - val_acc: 0.4333\n",
            "Epoch 3/5\n",
            "120/120 [==============================] - 0s 146us/sample - loss: 1.0981 - acc: 0.4750 - val_loss: 0.8387 - val_acc: 0.6333\n",
            "Epoch 4/5\n",
            "120/120 [==============================] - 0s 126us/sample - loss: 0.6708 - acc: 0.6750 - val_loss: 0.5968 - val_acc: 0.7333\n",
            "Epoch 5/5\n",
            "120/120 [==============================] - 0s 126us/sample - loss: 0.5139 - acc: 0.8167 - val_loss: 0.5043 - val_acc: 0.8333\n"
          ],
          "name": "stdout"
        },
        {
          "output_type": "execute_result",
          "data": {
            "text/plain": [
              "<tensorflow.python.keras.callbacks.History at 0x7f751f2fd828>"
            ]
          },
          "metadata": {
            "tags": []
          },
          "execution_count": 29
        }
      ]
    },
    {
      "cell_type": "code",
      "metadata": {
        "id": "DKf_Kp8jKoc8",
        "colab_type": "code",
        "colab": {
          "base_uri": "https://localhost:8080/",
          "height": 368
        },
        "outputId": "df7e098f-0202-4876-e900-2a5d15bb9189"
      },
      "source": [
        "tf.keras.utils.plot_model(\n",
        "    model,\n",
        "    show_shapes=False,\n",
        "    show_layer_names=True,\n",
        "    rankdir='TB',\n",
        "    expand_nested=False,\n",
        "    dpi=96\n",
        ")"
      ],
      "execution_count": 30,
      "outputs": [
        {
          "output_type": "execute_result",
          "data": {
            "image/png": "[encoded data removed]",
            "text/plain": [
              "<IPython.core.display.Image object>"
            ]
          },
          "metadata": {
            "tags": []
          },
          "execution_count": 30
        }
      ]
    },
    {
      "cell_type": "markdown",
      "metadata": {
        "id": "OTcl9FNBK15y",
        "colab_type": "text"
      },
      "source": [
        "## Model with two inputs"
      ]
    },
    {
      "cell_type": "markdown",
      "metadata": {
        "id": "osiHrXtkzHvI",
        "colab_type": "text"
      },
      "source": [
        "<pre><b>Model with Two Inputs</b>\n",
        "<pre> We are writing code to Build model as below \n",
        "\n",
        "<img src=\"https://i.imgur.com/xcSMxKN.png\"></pre><pre><pre>"
      ]
    },
    {
      "cell_type": "code",
      "metadata": {
        "id": "tqY4wiZZzHvI",
        "colab_type": "code",
        "colab": {}
      },
      "source": [
        "#clearing the graph of tensorflow\n",
        "tf.keras.backend.clear_session()\n",
        "\n",
        "# input to the model ( Input Layer 1 )\n",
        "Input_model_1 = Input(shape=(4,),name=\"iris_input_1\")\n",
        "\n",
        "# layer 11\n",
        "layer11 = Dense(units=32,activation='relu',kernel_initializer='he_normal',name=\"layer11\")(Input_model_1)#we are giving output of input layer 1\n",
        "#we got layer11 --> output of the first layer for first input\n",
        "\n",
        "\n",
        "# input to the model ( Input Layer 2 )\n",
        "Input_model_2 = Input(shape=(4,),name=\"iris_input_2\")\n",
        "\n",
        "# layer 12\n",
        "layer12 = Dense(units=16,activation='sigmoid',kernel_initializer='glorot_uniform',name=\"layer12\")(Input_model_2)#we are giving output of input layer 2\n",
        "#we got layer12 --> output of the first layer for second input\n",
        "\n",
        "# we got two outputs layer11,layer12\n",
        "# concatenating those two outputs\n",
        "concat_layer = concatenate(inputs=[layer11,layer12],name=\"concat\")\n",
        "\n",
        "# layer 2\n",
        "layer2 = Dense(units=16,activation='relu',kernel_initializer='he_normal',name=\"layer2\")(concat_layer)#we are giving output of concat layer\n",
        "#we got layer2 --> output of the second layer\n",
        "\n",
        "#output\n",
        "output = Dense(units=3,activation='softmax',kernel_initializer=\"glorot_uniform\",name=\"output\")(layer2)#we are giving output of second layer\n",
        "\n",
        "# till now we connected all the network from input to output. \n",
        "# Now we have to create a model for this you have to give what is the input layer and what is the output layer\n",
        "\n",
        "model = Model(inputs=[Input_model_1,Input_model_2],outputs=output) # we specified the model input and output\n"
      ],
      "execution_count": 0,
      "outputs": []
    },
    {
      "cell_type": "code",
      "metadata": {
        "id": "Q_N2jLvCzHvL",
        "colab_type": "code",
        "outputId": "c0e1ac4a-7160-4202-c76c-3714c940d999",
        "colab": {
          "base_uri": "https://localhost:8080/",
          "height": 400
        }
      },
      "source": [
        "#summary\n",
        "model.summary()"
      ],
      "execution_count": 32,
      "outputs": [
        {
          "output_type": "stream",
          "text": [
            "Model: \"model\"\n",
            "__________________________________________________________________________________________________\n",
            "Layer (type)                    Output Shape         Param #     Connected to                     \n",
            "==================================================================================================\n",
            "iris_input_1 (InputLayer)       [(None, 4)]          0                                            \n",
            "__________________________________________________________________________________________________\n",
            "iris_input_2 (InputLayer)       [(None, 4)]          0                                            \n",
            "__________________________________________________________________________________________________\n",
            "layer11 (Dense)                 (None, 32)           160         iris_input_1[0][0]               \n",
            "__________________________________________________________________________________________________\n",
            "layer12 (Dense)                 (None, 16)           80          iris_input_2[0][0]               \n",
            "__________________________________________________________________________________________________\n",
            "concat (Concatenate)            (None, 48)           0           layer11[0][0]                    \n",
            "                                                                 layer12[0][0]                    \n",
            "__________________________________________________________________________________________________\n",
            "layer2 (Dense)                  (None, 16)           784         concat[0][0]                     \n",
            "__________________________________________________________________________________________________\n",
            "output (Dense)                  (None, 3)            51          layer2[0][0]                     \n",
            "==================================================================================================\n",
            "Total params: 1,075\n",
            "Trainable params: 1,075\n",
            "Non-trainable params: 0\n",
            "__________________________________________________________________________________________________\n"
          ],
          "name": "stdout"
        }
      ]
    },
    {
      "cell_type": "code",
      "metadata": {
        "id": "iSbydEtNzHvO",
        "colab_type": "code",
        "colab": {}
      },
      "source": [
        "#compile \n",
        "model.compile(optimizer=tf.keras.optimizers.RMSprop(lr=0.01),loss='categorical_crossentropy',metrics=['accuracy'])"
      ],
      "execution_count": 0,
      "outputs": []
    },
    {
      "cell_type": "code",
      "metadata": {
        "id": "AdLvL8C0zHvR",
        "colab_type": "code",
        "outputId": "da5917ba-be0b-4246-c05a-1173cf7fdb59",
        "colab": {
          "base_uri": "https://localhost:8080/",
          "height": 216
        }
      },
      "source": [
        "#train\n",
        "model.fit([X_train,X_train],y_train_ohe,batch_size=16,epochs=5,validation_data=([X_test,X_test],y_test_ohe))"
      ],
      "execution_count": 34,
      "outputs": [
        {
          "output_type": "stream",
          "text": [
            "Train on 120 samples, validate on 30 samples\n",
            "Epoch 1/5\n",
            "120/120 [==============================] - 0s 1ms/sample - loss: 2.2365 - acc: 0.4000 - val_loss: 0.9057 - val_acc: 0.6000\n",
            "Epoch 2/5\n",
            "120/120 [==============================] - 0s 158us/sample - loss: 0.8797 - acc: 0.6667 - val_loss: 0.8965 - val_acc: 0.6667\n",
            "Epoch 3/5\n",
            "120/120 [==============================] - 0s 144us/sample - loss: 0.5388 - acc: 0.7917 - val_loss: 1.2253 - val_acc: 0.6667\n",
            "Epoch 4/5\n",
            "120/120 [==============================] - 0s 154us/sample - loss: 0.7698 - acc: 0.7333 - val_loss: 0.4612 - val_acc: 0.7000\n",
            "Epoch 5/5\n",
            "120/120 [==============================] - 0s 150us/sample - loss: 0.5420 - acc: 0.7417 - val_loss: 0.3035 - val_acc: 0.8667\n"
          ],
          "name": "stdout"
        },
        {
          "output_type": "execute_result",
          "data": {
            "text/plain": [
              "<tensorflow.python.keras.callbacks.History at 0x7f751d88eeb8>"
            ]
          },
          "metadata": {
            "tags": []
          },
          "execution_count": 34
        }
      ]
    },
    {
      "cell_type": "code",
      "metadata": {
        "id": "B5UDYzw-KPA7",
        "colab_type": "code",
        "colab": {
          "base_uri": "https://localhost:8080/",
          "height": 465
        },
        "outputId": "d8fa7688-4f62-43ff-c10e-e42cbe7445e9"
      },
      "source": [
        "tf.keras.utils.plot_model(\n",
        "    model,\n",
        "    show_shapes=False,\n",
        "    show_layer_names=True,\n",
        "    rankdir='TB',\n",
        "    expand_nested=False,\n",
        "    dpi=96\n",
        ")"
      ],
      "execution_count": 35,
      "outputs": [
        {
          "output_type": "execute_result",
          "data": {
            "image/png": "[encoded data removed]",
            "text/plain": [
              "<IPython.core.display.Image object>"
            ]
          },
          "metadata": {
            "tags": []
          },
          "execution_count": 35
        }
      ]
    },
    {
      "cell_type": "code",
      "metadata": {
        "id": "xzfv03BzKRKj",
        "colab_type": "code",
        "colab": {}
      },
      "source": [
        ""
      ],
      "execution_count": 0,
      "outputs": []
    }
  ]
}