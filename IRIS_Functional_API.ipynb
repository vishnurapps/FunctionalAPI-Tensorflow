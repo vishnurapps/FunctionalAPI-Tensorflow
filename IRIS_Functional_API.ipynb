{
  "nbformat": 4,
  "nbformat_minor": 0,
  "metadata": {
    "kernelspec": {
      "display_name": "Python 3",
      "language": "python",
      "name": "python3"
    },
    "language_info": {
      "codemirror_mode": {
        "name": "ipython",
        "version": 3
      },
      "file_extension": ".py",
      "mimetype": "text/x-python",
      "name": "python",
      "nbconvert_exporter": "python",
      "pygments_lexer": "ipython3",
      "version": "3.6.8"
    },
    "colab": {
      "name": "IRIS Functional API.ipynb",
      "provenance": [],
      "include_colab_link": true
    }
  },
  "cells": [
    {
      "cell_type": "markdown",
      "metadata": {
        "id": "view-in-github",
        "colab_type": "text"
      },
      "source": [
        "<a href=\"https://colab.research.google.com/github/vishnurapps/FunctionalAPI-Tensorflow/blob/master/IRIS_Functional_API.ipynb\" target=\"_parent\"><img src=\"https://colab.research.google.com/assets/colab-badge.svg\" alt=\"Open In Colab\"/></a>"
      ]
    },
    {
      "cell_type": "markdown",
      "metadata": {
        "id": "FLTYcS7QLcCT",
        "colab_type": "text"
      },
      "source": [
        "As of now we were studng about the Sequential models in keras. It is useful only in building simple models where the output of one layer goes to the input on next layer. We can use the simple sequential models to build LSTMs GRUs etc. \n",
        "\n",
        "Here we are making complex models using the functional api of tensorflow."
      ]
    },
    {
      "cell_type": "markdown",
      "metadata": {
        "id": "tyBSsR1ILX2x",
        "colab_type": "text"
      },
      "source": [
        "## Importing all required modules"
      ]
    },
    {
      "cell_type": "code",
      "metadata": {
        "id": "R3aP4kI6zHsd",
        "colab_type": "code",
        "colab": {
          "base_uri": "https://localhost:8080/",
          "height": 64
        },
        "outputId": "8e222007-9092-458e-f164-654209bfb7f6"
      },
      "source": [
        "import numpy as np\n",
        "import pandas as pd\n",
        "import sklearn\n",
        "import tensorflow as tf"
      ],
      "execution_count": 1,
      "outputs": [
        {
          "output_type": "display_data",
          "data": {
            "text/html": [
              "<p style=\"color: red;\">\n",
              "The default version of TensorFlow in Colab will soon switch to TensorFlow 2.x.<br>\n",
              "We recommend you <a href=\"https://www.tensorflow.org/guide/migrate\" target=\"_blank\">upgrade</a> now \n",
              "or ensure your notebook will continue to use TensorFlow 1.x via the <code>%tensorflow_version 1.x</code> magic:\n",
              "<a href=\"https://colab.research.google.com/notebooks/tensorflow_version.ipynb\" target=\"_blank\">more info</a>.</p>\n"
            ],
            "text/plain": [
              "<IPython.core.display.HTML object>"
            ]
          },
          "metadata": {
            "tags": []
          }
        }
      ]
    },
    {
      "cell_type": "code",
      "metadata": {
        "id": "E2V8F4RczHtF",
        "colab_type": "code",
        "colab": {}
      },
      "source": [
        "from sklearn import datasets\n",
        "iris = datasets.load_iris()\n",
        "X = iris.data\n",
        "Y = iris.target"
      ],
      "execution_count": 0,
      "outputs": []
    },
    {
      "cell_type": "code",
      "metadata": {
        "id": "YbQbP6rrzHtZ",
        "colab_type": "code",
        "outputId": "9f5dc772-2a36-4ca9-e987-b856e6a455b2",
        "colab": {
          "base_uri": "https://localhost:8080/",
          "height": 52
        }
      },
      "source": [
        "print(X.shape)\n",
        "print(Y.shape)"
      ],
      "execution_count": 3,
      "outputs": [
        {
          "output_type": "stream",
          "text": [
            "(150, 4)\n",
            "(150,)\n"
          ],
          "name": "stdout"
        }
      ]
    },
    {
      "cell_type": "code",
      "metadata": {
        "id": "QLBgQkBLzHto",
        "colab_type": "code",
        "colab": {}
      },
      "source": [
        "#train test split\n",
        "from sklearn.model_selection import train_test_split\n",
        "X_train, X_test, y_train, y_test = train_test_split(X, Y, test_size=0.2, random_state=30,stratify=Y)"
      ],
      "execution_count": 0,
      "outputs": []
    },
    {
      "cell_type": "code",
      "metadata": {
        "id": "VwyGWQPBzHt6",
        "colab_type": "code",
        "outputId": "61f15c5a-c75d-449b-f74c-419f20805cfe",
        "colab": {
          "base_uri": "https://localhost:8080/",
          "height": 52
        }
      },
      "source": [
        "print(\"train data shape\",X_train.shape)\n",
        "print(\"test data shape\",X_test.shape)"
      ],
      "execution_count": 5,
      "outputs": [
        {
          "output_type": "stream",
          "text": [
            "train data shape (120, 4)\n",
            "test data shape (30, 4)\n"
          ],
          "name": "stdout"
        }
      ]
    },
    {
      "cell_type": "code",
      "metadata": {
        "id": "hyGz0mqRzHuN",
        "colab_type": "code",
        "colab": {}
      },
      "source": [
        "##convert Y to one hot coding vectors\n",
        "from sklearn.preprocessing import OneHotEncoder\n",
        "encoder = OneHotEncoder(categories='auto')\n",
        "y_train_ohe = encoder.fit_transform(y_train.reshape(-1,1))\n",
        "y_test_ohe = encoder.transform(y_test.reshape(-1,1))\n",
        "y_train_ohe = y_train_ohe.toarray()\n",
        "y_test_ohe = y_test_ohe.toarray()"
      ],
      "execution_count": 0,
      "outputs": []
    },
    {
      "cell_type": "code",
      "metadata": {
        "id": "w68y8MLCzHue",
        "colab_type": "code",
        "outputId": "794f592a-b3dc-4f5a-f43d-9007bcfea3e9",
        "colab": {
          "base_uri": "https://localhost:8080/",
          "height": 52
        }
      },
      "source": [
        "print(\"shape of train labels\",y_train_ohe.shape)\n",
        "print(\"shape of test labels\",y_test_ohe.shape)"
      ],
      "execution_count": 7,
      "outputs": [
        {
          "output_type": "stream",
          "text": [
            "shape of train labels (120, 3)\n",
            "shape of test labels (30, 3)\n"
          ],
          "name": "stdout"
        }
      ]
    },
    {
      "cell_type": "code",
      "metadata": {
        "id": "v_c1-U4RzHur",
        "colab_type": "code",
        "colab": {}
      },
      "source": [
        "#importing layers from tensorflow\n",
        "from tensorflow.keras.layers import Dense,concatenate,Activation,Dropout,Input\n",
        "from tensorflow.keras.models import Model"
      ],
      "execution_count": 0,
      "outputs": []
    },
    {
      "cell_type": "markdown",
      "metadata": {
        "id": "iahvtDh7KvgR",
        "colab_type": "text"
      },
      "source": [
        "## Simple model using functional API"
      ]
    },
    {
      "cell_type": "markdown",
      "metadata": {
        "id": "s-igVf6XzHuz",
        "colab_type": "text"
      },
      "source": [
        "<pre><b>Simple Model using tf.keras Functional API</b>\n",
        "<pre> We are writing code to Build model as below \n",
        "\n",
        "<img src=\"https://i.imgur.com/i1Lpk22.png\"></pre><pre>"
      ]
    },
    {
      "cell_type": "code",
      "metadata": {
        "id": "fCsd03Q4zHu1",
        "colab_type": "code",
        "colab": {
          "base_uri": "https://localhost:8080/",
          "height": 89
        },
        "outputId": "a769cfc2-9f3c-4016-c387-c33ec4b09944"
      },
      "source": [
        "#clearing the graph of tensorflow\n",
        "tf.keras.backend.clear_session()\n",
        "\n",
        "# input to the model ( Input Layer )\n",
        "Input_model = Input(shape=(4,),name=\"iris_input\")\n",
        "\n",
        "# layer 1\n",
        "layer1 = Dense(units=32,activation='relu',kernel_initializer='he_normal',name=\"layer1\")(Input_model)#we are giving output of input layer\n",
        "#we got layer1 --> output of the first layer\n",
        "\n",
        "# layer 2\n",
        "layer2 = Dense(units=16,activation='relu',kernel_initializer='he_normal',name='layer2')(layer1)#we are giving output of first layer\n",
        "#we got layer2 --> output of the second layer\n",
        "\n",
        "#output\n",
        "output = Dense(units=3,activation='softmax',kernel_initializer=\"glorot_uniform\",name='output')(layer2)#we are giving output of second layer\n",
        "\n",
        "# till now we connected all the network from input to output. \n",
        "# Now we have to create a model for this you have to give what is the input layer and what is the output layer\n",
        "\n",
        "model = Model(inputs=Input_model,outputs=output) # we specified the model input and output\n"
      ],
      "execution_count": 9,
      "outputs": [
        {
          "output_type": "stream",
          "text": [
            "WARNING:tensorflow:From /usr/local/lib/python3.6/dist-packages/tensorflow_core/python/ops/resource_variable_ops.py:1630: calling BaseResourceVariable.__init__ (from tensorflow.python.ops.resource_variable_ops) with constraint is deprecated and will be removed in a future version.\n",
            "Instructions for updating:\n",
            "If using Keras pass *_constraint arguments to layers.\n"
          ],
          "name": "stdout"
        }
      ]
    },
    {
      "cell_type": "code",
      "metadata": {
        "id": "kL_kiMv-zHu5",
        "colab_type": "code",
        "outputId": "800f37f4-4558-4582-dbb8-7fbe0cb99f2e",
        "colab": {
          "base_uri": "https://localhost:8080/",
          "height": 295
        }
      },
      "source": [
        "#summary of the model\n",
        "model.summary()"
      ],
      "execution_count": 10,
      "outputs": [
        {
          "output_type": "stream",
          "text": [
            "Model: \"model\"\n",
            "_________________________________________________________________\n",
            "Layer (type)                 Output Shape              Param #   \n",
            "=================================================================\n",
            "iris_input (InputLayer)      [(None, 4)]               0         \n",
            "_________________________________________________________________\n",
            "layer1 (Dense)               (None, 32)                160       \n",
            "_________________________________________________________________\n",
            "layer2 (Dense)               (None, 16)                528       \n",
            "_________________________________________________________________\n",
            "output (Dense)               (None, 3)                 51        \n",
            "=================================================================\n",
            "Total params: 739\n",
            "Trainable params: 739\n",
            "Non-trainable params: 0\n",
            "_________________________________________________________________\n"
          ],
          "name": "stdout"
        }
      ]
    },
    {
      "cell_type": "code",
      "metadata": {
        "id": "nKS_S53szHu_",
        "colab_type": "code",
        "colab": {}
      },
      "source": [
        "#compile \n",
        "model.compile(optimizer=tf.keras.optimizers.RMSprop(lr=0.001),loss='categorical_crossentropy',metrics=['accuracy'])"
      ],
      "execution_count": 0,
      "outputs": []
    },
    {
      "cell_type": "code",
      "metadata": {
        "id": "gS4LHI5nzHvD",
        "colab_type": "code",
        "outputId": "41f89b43-49a2-4e77-93d0-14b63b52a35f",
        "colab": {
          "base_uri": "https://localhost:8080/",
          "height": 225
        }
      },
      "source": [
        "#train\n",
        "model.fit(X_train,y_train_ohe,batch_size=16,epochs=5,validation_data=(X_test,y_test_ohe))"
      ],
      "execution_count": 12,
      "outputs": [
        {
          "output_type": "stream",
          "text": [
            "Train on 120 samples, validate on 30 samples\n",
            "Epoch 1/5\n",
            "120/120 [==============================] - 0s 2ms/sample - loss: 3.5078 - acc: 0.3333 - val_loss: 1.6229 - val_acc: 0.3333\n",
            "Epoch 2/5\n",
            "120/120 [==============================] - 0s 141us/sample - loss: 1.1098 - acc: 0.4917 - val_loss: 0.8558 - val_acc: 0.6667\n",
            "Epoch 3/5\n",
            "120/120 [==============================] - 0s 195us/sample - loss: 0.7635 - acc: 0.4500 - val_loss: 0.7700 - val_acc: 0.6667\n",
            "Epoch 4/5\n",
            "120/120 [==============================] - 0s 150us/sample - loss: 0.7022 - acc: 0.4833 - val_loss: 0.6790 - val_acc: 0.4000\n",
            "Epoch 5/5\n",
            "120/120 [==============================] - 0s 144us/sample - loss: 0.6533 - acc: 0.5750 - val_loss: 0.7505 - val_acc: 0.6667\n"
          ],
          "name": "stdout"
        },
        {
          "output_type": "execute_result",
          "data": {
            "text/plain": [
              "<tensorflow.python.keras.callbacks.History at 0x7f4edcfc1f60>"
            ]
          },
          "metadata": {
            "tags": []
          },
          "execution_count": 12
        }
      ]
    },
    {
      "cell_type": "code",
      "metadata": {
        "id": "DKf_Kp8jKoc8",
        "colab_type": "code",
        "outputId": "e51059c0-f1f0-4436-b47c-e3c5e37e84f3",
        "colab": {
          "base_uri": "https://localhost:8080/",
          "height": 369
        }
      },
      "source": [
        "#drawing models\n",
        "tf.keras.utils.plot_model(\n",
        "    model,\n",
        "    show_shapes=False,\n",
        "    show_layer_names=True,\n",
        "    rankdir='TB',\n",
        "    expand_nested=False,\n",
        "    dpi=96\n",
        ")"
      ],
      "execution_count": 13,
      "outputs": [
        {
          "output_type": "execute_result",
          "data": {
            "image/png": "[encoded data removed]",
            "text/plain": [
              "<IPython.core.display.Image object>"
            ]
          },
          "metadata": {
            "tags": []
          },
          "execution_count": 13
        }
      ]
    },
    {
      "cell_type": "markdown",
      "metadata": {
        "id": "OTcl9FNBK15y",
        "colab_type": "text"
      },
      "source": [
        "## Model with two inputs"
      ]
    },
    {
      "cell_type": "markdown",
      "metadata": {
        "id": "osiHrXtkzHvI",
        "colab_type": "text"
      },
      "source": [
        "<pre><b>Model with Two Inputs</b>\n",
        "<pre> We are writing code to Build model as below \n",
        "\n",
        "<img src=\"https://i.imgur.com/xcSMxKN.png\"></pre><pre><pre>"
      ]
    },
    {
      "cell_type": "code",
      "metadata": {
        "id": "tqY4wiZZzHvI",
        "colab_type": "code",
        "colab": {}
      },
      "source": [
        "#clearing the graph of tensorflow\n",
        "tf.keras.backend.clear_session()\n",
        "\n",
        "# input to the model ( Input Layer 1 )\n",
        "Input_model_1 = Input(shape=(4,),name=\"iris_input_1\")\n",
        "\n",
        "# layer 11\n",
        "layer11 = Dense(units=32,activation='relu',kernel_initializer='he_normal',name=\"layer11\")(Input_model_1)#we are giving output of input layer 1\n",
        "#we got layer11 --> output of the first layer for first input\n",
        "\n",
        "\n",
        "# input to the model ( Input Layer 2 )\n",
        "Input_model_2 = Input(shape=(4,),name=\"iris_input_2\")\n",
        "\n",
        "# layer 12\n",
        "layer12 = Dense(units=16,activation='sigmoid',kernel_initializer='glorot_uniform',name=\"layer12\")(Input_model_2)#we are giving output of input layer 2\n",
        "#we got layer12 --> output of the first layer for second input\n",
        "\n",
        "# we got two outputs layer11,layer12\n",
        "# concatenating those two outputs\n",
        "concat_layer = concatenate(inputs=[layer11,layer12],name=\"concat\")\n",
        "\n",
        "# layer 2\n",
        "layer2 = Dense(units=16,activation='relu',kernel_initializer='he_normal',name=\"layer2\")(concat_layer)#we are giving output of concat layer\n",
        "#we got layer2 --> output of the second layer\n",
        "\n",
        "#output\n",
        "output = Dense(units=3,activation='softmax',kernel_initializer=\"glorot_uniform\",name=\"output\")(layer2)#we are giving output of second layer\n",
        "\n",
        "# till now we connected all the network from input to output. \n",
        "# Now we have to create a model for this you have to give what is the input layer and what is the output layer\n",
        "\n",
        "model = Model(inputs=[Input_model_1,Input_model_2],outputs=output) # we specified the model input and output\n"
      ],
      "execution_count": 0,
      "outputs": []
    },
    {
      "cell_type": "code",
      "metadata": {
        "id": "Q_N2jLvCzHvL",
        "colab_type": "code",
        "outputId": "96acb821-b37e-419e-9c4a-1734b28c66b7",
        "colab": {
          "base_uri": "https://localhost:8080/",
          "height": 416
        }
      },
      "source": [
        "#summary\n",
        "model.summary()"
      ],
      "execution_count": 15,
      "outputs": [
        {
          "output_type": "stream",
          "text": [
            "Model: \"model\"\n",
            "__________________________________________________________________________________________________\n",
            "Layer (type)                    Output Shape         Param #     Connected to                     \n",
            "==================================================================================================\n",
            "iris_input_1 (InputLayer)       [(None, 4)]          0                                            \n",
            "__________________________________________________________________________________________________\n",
            "iris_input_2 (InputLayer)       [(None, 4)]          0                                            \n",
            "__________________________________________________________________________________________________\n",
            "layer11 (Dense)                 (None, 32)           160         iris_input_1[0][0]               \n",
            "__________________________________________________________________________________________________\n",
            "layer12 (Dense)                 (None, 16)           80          iris_input_2[0][0]               \n",
            "__________________________________________________________________________________________________\n",
            "concat (Concatenate)            (None, 48)           0           layer11[0][0]                    \n",
            "                                                                 layer12[0][0]                    \n",
            "__________________________________________________________________________________________________\n",
            "layer2 (Dense)                  (None, 16)           784         concat[0][0]                     \n",
            "__________________________________________________________________________________________________\n",
            "output (Dense)                  (None, 3)            51          layer2[0][0]                     \n",
            "==================================================================================================\n",
            "Total params: 1,075\n",
            "Trainable params: 1,075\n",
            "Non-trainable params: 0\n",
            "__________________________________________________________________________________________________\n"
          ],
          "name": "stdout"
        }
      ]
    },
    {
      "cell_type": "code",
      "metadata": {
        "id": "iSbydEtNzHvO",
        "colab_type": "code",
        "colab": {}
      },
      "source": [
        "#compile \n",
        "model.compile(optimizer=tf.keras.optimizers.RMSprop(lr=0.01),loss='categorical_crossentropy',metrics=['accuracy'])"
      ],
      "execution_count": 0,
      "outputs": []
    },
    {
      "cell_type": "code",
      "metadata": {
        "id": "AdLvL8C0zHvR",
        "colab_type": "code",
        "outputId": "29e0c824-b9a4-4262-f02f-8c7de1b2e09f",
        "colab": {
          "base_uri": "https://localhost:8080/",
          "height": 225
        }
      },
      "source": [
        "#train\n",
        "model.fit([X_train,X_train],y_train_ohe,batch_size=16,epochs=5,validation_data=([X_test,X_test],y_test_ohe))"
      ],
      "execution_count": 17,
      "outputs": [
        {
          "output_type": "stream",
          "text": [
            "Train on 120 samples, validate on 30 samples\n",
            "Epoch 1/5\n",
            "120/120 [==============================] - 0s 1ms/sample - loss: 1.4472 - acc: 0.5833 - val_loss: 0.6008 - val_acc: 0.6667\n",
            "Epoch 2/5\n",
            "120/120 [==============================] - 0s 177us/sample - loss: 0.5874 - acc: 0.6750 - val_loss: 1.0311 - val_acc: 0.6667\n",
            "Epoch 3/5\n",
            "120/120 [==============================] - 0s 172us/sample - loss: 0.5568 - acc: 0.6917 - val_loss: 1.1392 - val_acc: 0.6667\n",
            "Epoch 4/5\n",
            "120/120 [==============================] - 0s 168us/sample - loss: 0.4256 - acc: 0.8250 - val_loss: 0.3701 - val_acc: 0.8000\n",
            "Epoch 5/5\n",
            "120/120 [==============================] - 0s 165us/sample - loss: 0.5024 - acc: 0.7333 - val_loss: 0.2887 - val_acc: 0.8667\n"
          ],
          "name": "stdout"
        },
        {
          "output_type": "execute_result",
          "data": {
            "text/plain": [
              "<tensorflow.python.keras.callbacks.History at 0x7f4ed67219e8>"
            ]
          },
          "metadata": {
            "tags": []
          },
          "execution_count": 17
        }
      ]
    },
    {
      "cell_type": "code",
      "metadata": {
        "id": "B5UDYzw-KPA7",
        "colab_type": "code",
        "outputId": "382403e0-77d2-4074-d7ac-3edb5bf1aa76",
        "colab": {
          "base_uri": "https://localhost:8080/",
          "height": 466
        }
      },
      "source": [
        "#drawing model\n",
        "tf.keras.utils.plot_model(\n",
        "    model,\n",
        "    show_shapes=False,\n",
        "    show_layer_names=True,\n",
        "    rankdir='TB',\n",
        "    expand_nested=False,\n",
        "    dpi=96\n",
        ")"
      ],
      "execution_count": 18,
      "outputs": [
        {
          "output_type": "execute_result",
          "data": {
            "image/png": "[encoded data removed]",
            "text/plain": [
              "<IPython.core.display.Image object>"
            ]
          },
          "metadata": {
            "tags": []
          },
          "execution_count": 18
        }
      ]
    },
    {
      "cell_type": "markdown",
      "metadata": {
        "id": "MRs2GrOBMLba",
        "colab_type": "text"
      },
      "source": [
        "## Model with three inputs"
      ]
    },
    {
      "cell_type": "code",
      "metadata": {
        "id": "xzfv03BzKRKj",
        "colab_type": "code",
        "colab": {}
      },
      "source": [
        "## Model with three inputs"
      ],
      "execution_count": 0,
      "outputs": []
    },
    {
      "cell_type": "code",
      "metadata": {
        "id": "D3Z4Z9HvMJRw",
        "colab_type": "code",
        "colab": {}
      },
      "source": [
        "#clearing the graph of tensorflow\n",
        "tf.keras.backend.clear_session()\n",
        "\n",
        "# input to the model ( Input Layer 1 )\n",
        "Input_model_1 = Input(shape=(4,),name=\"iris_input_1\")\n",
        "\n",
        "# layer 11\n",
        "layer11 = Dense(units=32,activation='relu',kernel_initializer='he_normal',name=\"layer11\")(Input_model_1)#we are giving output of input layer 1\n",
        "#we got layer11 --> output of the first layer for first input\n",
        "\n",
        "\n",
        "# input to the model ( Input Layer 2 )\n",
        "Input_model_2 = Input(shape=(4,),name=\"iris_input_2\")\n",
        "\n",
        "# layer 12\n",
        "layer12 = Dense(units=16,activation='sigmoid',kernel_initializer='glorot_uniform',name=\"layer12\")(Input_model_2)#we are giving output of input layer 2\n",
        "#we got layer12 --> output of the first layer for second input\n",
        "\n",
        "# input to the model ( Input Layer 3 )\n",
        "Input_model_3 = Input(shape=(4,),name=\"iris_input_3\")\n",
        "\n",
        "# layer 13\n",
        "layer13 = Dense(units=16,activation='relu',kernel_initializer='he_normal',name=\"layer13\")(Input_model_3)#we are giving output of input layer 2\n",
        "#we got layer12 --> output of the first layer for second input\n",
        "\n",
        "# we got two outputs layer11,layer12\n",
        "# concatenating those two outputs\n",
        "concat_layer = concatenate(inputs=[layer11,layer12, layer13],name=\"concat\")\n",
        "\n",
        "# layer 2\n",
        "layer2 = Dense(units=16,activation='relu',kernel_initializer='he_normal',name=\"layer2\")(concat_layer)#we are giving output of concat layer\n",
        "#we got layer2 --> output of the second layer\n",
        "\n",
        "#output\n",
        "output = Dense(units=3,activation='softmax',kernel_initializer=\"glorot_uniform\",name=\"output\")(layer2)#we are giving output of second layer\n",
        "\n",
        "# till now we connected all the network from input to output. \n",
        "# Now we have to create a model for this you have to give what is the input layer and what is the output layer\n",
        "\n",
        "model = Model(inputs=[Input_model_1,Input_model_2,Input_model_3],outputs=output) # we specified the model input and output\n"
      ],
      "execution_count": 0,
      "outputs": []
    },
    {
      "cell_type": "code",
      "metadata": {
        "id": "rHxlLZOWMh7-",
        "colab_type": "code",
        "outputId": "97359388-bdbb-460e-a2cb-4d59fd811d24",
        "colab": {
          "base_uri": "https://localhost:8080/",
          "height": 503
        }
      },
      "source": [
        "#summary\n",
        "model.summary()"
      ],
      "execution_count": 21,
      "outputs": [
        {
          "output_type": "stream",
          "text": [
            "Model: \"model\"\n",
            "__________________________________________________________________________________________________\n",
            "Layer (type)                    Output Shape         Param #     Connected to                     \n",
            "==================================================================================================\n",
            "iris_input_1 (InputLayer)       [(None, 4)]          0                                            \n",
            "__________________________________________________________________________________________________\n",
            "iris_input_2 (InputLayer)       [(None, 4)]          0                                            \n",
            "__________________________________________________________________________________________________\n",
            "iris_input_3 (InputLayer)       [(None, 4)]          0                                            \n",
            "__________________________________________________________________________________________________\n",
            "layer11 (Dense)                 (None, 32)           160         iris_input_1[0][0]               \n",
            "__________________________________________________________________________________________________\n",
            "layer12 (Dense)                 (None, 16)           80          iris_input_2[0][0]               \n",
            "__________________________________________________________________________________________________\n",
            "layer13 (Dense)                 (None, 16)           80          iris_input_3[0][0]               \n",
            "__________________________________________________________________________________________________\n",
            "concat (Concatenate)            (None, 64)           0           layer11[0][0]                    \n",
            "                                                                 layer12[0][0]                    \n",
            "                                                                 layer13[0][0]                    \n",
            "__________________________________________________________________________________________________\n",
            "layer2 (Dense)                  (None, 16)           1040        concat[0][0]                     \n",
            "__________________________________________________________________________________________________\n",
            "output (Dense)                  (None, 3)            51          layer2[0][0]                     \n",
            "==================================================================================================\n",
            "Total params: 1,411\n",
            "Trainable params: 1,411\n",
            "Non-trainable params: 0\n",
            "__________________________________________________________________________________________________\n"
          ],
          "name": "stdout"
        }
      ]
    },
    {
      "cell_type": "code",
      "metadata": {
        "id": "RmvHkzawNIs1",
        "colab_type": "code",
        "colab": {}
      },
      "source": [
        "#compile \n",
        "model.compile(optimizer=tf.keras.optimizers.RMSprop(lr=0.01),loss='categorical_crossentropy',metrics=['accuracy'])"
      ],
      "execution_count": 0,
      "outputs": []
    },
    {
      "cell_type": "code",
      "metadata": {
        "id": "4z_LKZwONPiY",
        "colab_type": "code",
        "outputId": "94ec5388-6e74-429d-b654-24cc85877a8f",
        "colab": {
          "base_uri": "https://localhost:8080/",
          "height": 225
        }
      },
      "source": [
        "#train\n",
        "model.fit([X_train,X_train,X_train],y_train_ohe,batch_size=16,epochs=5,validation_data=([X_test,X_test,X_test],y_test_ohe))"
      ],
      "execution_count": 23,
      "outputs": [
        {
          "output_type": "stream",
          "text": [
            "Train on 120 samples, validate on 30 samples\n",
            "Epoch 1/5\n",
            "120/120 [==============================] - 0s 1ms/sample - loss: 1.5676 - acc: 0.5250 - val_loss: 0.8775 - val_acc: 0.4667\n",
            "Epoch 2/5\n",
            "120/120 [==============================] - 0s 176us/sample - loss: 0.6419 - acc: 0.6667 - val_loss: 0.4722 - val_acc: 0.8000\n",
            "Epoch 3/5\n",
            "120/120 [==============================] - 0s 148us/sample - loss: 0.6354 - acc: 0.6917 - val_loss: 0.4410 - val_acc: 0.7000\n",
            "Epoch 4/5\n",
            "120/120 [==============================] - 0s 134us/sample - loss: 0.5356 - acc: 0.6833 - val_loss: 0.3838 - val_acc: 0.7333\n",
            "Epoch 5/5\n",
            "120/120 [==============================] - 0s 145us/sample - loss: 0.4165 - acc: 0.7833 - val_loss: 0.2719 - val_acc: 0.9667\n"
          ],
          "name": "stdout"
        },
        {
          "output_type": "execute_result",
          "data": {
            "text/plain": [
              "<tensorflow.python.keras.callbacks.History at 0x7f4ed5e79eb8>"
            ]
          },
          "metadata": {
            "tags": []
          },
          "execution_count": 23
        }
      ]
    },
    {
      "cell_type": "code",
      "metadata": {
        "id": "DPYvnF0QNTFF",
        "colab_type": "code",
        "outputId": "70bf4712-6cb9-4c0f-e061-edd84b8333e9",
        "colab": {
          "base_uri": "https://localhost:8080/",
          "height": 466
        }
      },
      "source": [
        "#drawing model\n",
        "tf.keras.utils.plot_model(\n",
        "    model,\n",
        "    show_shapes=False,\n",
        "    show_layer_names=True,\n",
        "    rankdir='TB',\n",
        "    expand_nested=False,\n",
        "    dpi=96\n",
        ")"
      ],
      "execution_count": 24,
      "outputs": [
        {
          "output_type": "execute_result",
          "data": {
            "image/png": "[encoded data removed]",
            "text/plain": [
              "<IPython.core.display.Image object>"
            ]
          },
          "metadata": {
            "tags": []
          },
          "execution_count": 24
        }
      ]
    },
    {
      "cell_type": "markdown",
      "metadata": {
        "id": "7J65i4NhOd9Y",
        "colab_type": "text"
      },
      "source": [
        "## Complex three input"
      ]
    },
    {
      "cell_type": "code",
      "metadata": {
        "id": "x-vHbq1fN2a3",
        "colab_type": "code",
        "colab": {}
      },
      "source": [
        "#clearing the graph of tensorflow\n",
        "tf.keras.backend.clear_session()\n",
        "\n",
        "# input to the model ( Input Layer 1 )\n",
        "Input_model_1 = Input(shape=(4,),name=\"iris_input_1\")\n",
        "\n",
        "# layer 11\n",
        "layer11 = Dense(units=32,activation='relu',kernel_initializer='he_normal',name=\"layer11\")(Input_model_1)#we are giving output of input layer 1\n",
        "#we got layer11 --> output of the first layer for first input\n",
        "\n",
        "\n",
        "# input to the model ( Input Layer 2 )\n",
        "Input_model_2 = Input(shape=(4,),name=\"iris_input_2\")\n",
        "\n",
        "# layer 12\n",
        "layer12 = Dense(units=16,activation='sigmoid',kernel_initializer='glorot_uniform',name=\"layer12\")(Input_model_2)#we are giving output of input layer 2\n",
        "#we got layer12 --> output of the first layer for second input\n",
        "\n",
        "# we got two outputs layer11,layer12\n",
        "# concatenating those two outputs\n",
        "concat_layer = concatenate(inputs=[layer11,layer12],name=\"concat\")\n",
        "\n",
        "# input to the model ( Input Layer 3 )\n",
        "Input_model_3 = Input(shape=(4,),name=\"iris_input_3\")\n",
        "\n",
        "# layer 13\n",
        "layer13 = Dense(units=16,activation='relu',kernel_initializer='he_normal',name=\"layer13\")(Input_model_3)#we are giving output of input layer 2\n",
        "#we got layer12 --> output of the first layer for second input\n",
        "\n",
        "# we got two outputs layer11,layer12\n",
        "# concatenating those two outputs\n",
        "concat_layer1 = concatenate(inputs=[concat_layer, layer13],name=\"concat1\")\n",
        "\n",
        "# layer 2\n",
        "layer2 = Dense(units=16,activation='relu',kernel_initializer='he_normal',name=\"layer2\")(concat_layer1)#we are giving output of concat layer\n",
        "#we got layer2 --> output of the second layer\n",
        "\n",
        "#output\n",
        "output = Dense(units=3,activation='softmax',kernel_initializer=\"glorot_uniform\",name=\"output\")(layer2)#we are giving output of second layer\n",
        "\n",
        "# till now we connected all the network from input to output. \n",
        "# Now we have to create a model for this you have to give what is the input layer and what is the output layer\n",
        "\n",
        "model = Model(inputs=[Input_model_1,Input_model_2,Input_model_3],outputs=output) # we specified the model input and output\n"
      ],
      "execution_count": 0,
      "outputs": []
    },
    {
      "cell_type": "code",
      "metadata": {
        "id": "xdCr_W7KPBFx",
        "colab_type": "code",
        "colab": {
          "base_uri": "https://localhost:8080/",
          "height": 537
        },
        "outputId": "a78df284-6686-4350-a5f9-343ee3c8006a"
      },
      "source": [
        "#summary\n",
        "model.summary()"
      ],
      "execution_count": 27,
      "outputs": [
        {
          "output_type": "stream",
          "text": [
            "Model: \"model\"\n",
            "__________________________________________________________________________________________________\n",
            "Layer (type)                    Output Shape         Param #     Connected to                     \n",
            "==================================================================================================\n",
            "iris_input_1 (InputLayer)       [(None, 4)]          0                                            \n",
            "__________________________________________________________________________________________________\n",
            "iris_input_2 (InputLayer)       [(None, 4)]          0                                            \n",
            "__________________________________________________________________________________________________\n",
            "layer11 (Dense)                 (None, 32)           160         iris_input_1[0][0]               \n",
            "__________________________________________________________________________________________________\n",
            "layer12 (Dense)                 (None, 16)           80          iris_input_2[0][0]               \n",
            "__________________________________________________________________________________________________\n",
            "iris_input_3 (InputLayer)       [(None, 4)]          0                                            \n",
            "__________________________________________________________________________________________________\n",
            "concat (Concatenate)            (None, 48)           0           layer11[0][0]                    \n",
            "                                                                 layer12[0][0]                    \n",
            "__________________________________________________________________________________________________\n",
            "layer13 (Dense)                 (None, 16)           80          iris_input_3[0][0]               \n",
            "__________________________________________________________________________________________________\n",
            "concat1 (Concatenate)           (None, 64)           0           concat[0][0]                     \n",
            "                                                                 layer13[0][0]                    \n",
            "__________________________________________________________________________________________________\n",
            "layer2 (Dense)                  (None, 16)           1040        concat1[0][0]                    \n",
            "__________________________________________________________________________________________________\n",
            "output (Dense)                  (None, 3)            51          layer2[0][0]                     \n",
            "==================================================================================================\n",
            "Total params: 1,411\n",
            "Trainable params: 1,411\n",
            "Non-trainable params: 0\n",
            "__________________________________________________________________________________________________\n"
          ],
          "name": "stdout"
        }
      ]
    },
    {
      "cell_type": "code",
      "metadata": {
        "id": "VsjATLGGPIsz",
        "colab_type": "code",
        "colab": {}
      },
      "source": [
        "#compile \n",
        "model.compile(optimizer=tf.keras.optimizers.RMSprop(lr=0.01),loss='categorical_crossentropy',metrics=['accuracy'])"
      ],
      "execution_count": 0,
      "outputs": []
    },
    {
      "cell_type": "code",
      "metadata": {
        "id": "xI1lgZizPNI1",
        "colab_type": "code",
        "colab": {
          "base_uri": "https://localhost:8080/",
          "height": 225
        },
        "outputId": "dd7685c0-b829-4ec1-cdf6-36604c702523"
      },
      "source": [
        "#train\n",
        "model.fit([X_train,X_train,X_train],y_train_ohe,batch_size=16,epochs=5,validation_data=([X_test,X_test,X_test],y_test_ohe))"
      ],
      "execution_count": 29,
      "outputs": [
        {
          "output_type": "stream",
          "text": [
            "Train on 120 samples, validate on 30 samples\n",
            "Epoch 1/5\n",
            "120/120 [==============================] - 0s 1ms/sample - loss: 2.4054 - acc: 0.2417 - val_loss: 0.9680 - val_acc: 0.3333\n",
            "Epoch 2/5\n",
            "120/120 [==============================] - 0s 173us/sample - loss: 0.9381 - acc: 0.5167 - val_loss: 0.7712 - val_acc: 0.6667\n",
            "Epoch 3/5\n",
            "120/120 [==============================] - 0s 164us/sample - loss: 0.8502 - acc: 0.5583 - val_loss: 0.7601 - val_acc: 0.7333\n",
            "Epoch 4/5\n",
            "120/120 [==============================] - 0s 179us/sample - loss: 0.7772 - acc: 0.6417 - val_loss: 0.6757 - val_acc: 0.9333\n",
            "Epoch 5/5\n",
            "120/120 [==============================] - 0s 143us/sample - loss: 0.6492 - acc: 0.8583 - val_loss: 0.8388 - val_acc: 0.6667\n"
          ],
          "name": "stdout"
        },
        {
          "output_type": "execute_result",
          "data": {
            "text/plain": [
              "<tensorflow.python.keras.callbacks.History at 0x7f4ed004af28>"
            ]
          },
          "metadata": {
            "tags": []
          },
          "execution_count": 29
        }
      ]
    },
    {
      "cell_type": "code",
      "metadata": {
        "id": "FSJ5Ix8GPRE4",
        "colab_type": "code",
        "colab": {
          "base_uri": "https://localhost:8080/",
          "height": 564
        },
        "outputId": "f719639d-ffae-4271-dded-ed50df6f20f9"
      },
      "source": [
        "#drawing model\n",
        "tf.keras.utils.plot_model(\n",
        "    model,\n",
        "    show_shapes=False,\n",
        "    show_layer_names=True,\n",
        "    rankdir='TB',\n",
        "    expand_nested=False,\n",
        "    dpi=96\n",
        ")"
      ],
      "execution_count": 30,
      "outputs": [
        {
          "output_type": "execute_result",
          "data": {
            "image/png": "[encoded data removed]",
            "text/plain": [
              "<IPython.core.display.Image object>"
            ]
          },
          "metadata": {
            "tags": []
          },
          "execution_count": 30
        }
      ]
    },
    {
      "cell_type": "code",
      "metadata": {
        "id": "KqYE9HXKPUiO",
        "colab_type": "code",
        "colab": {}
      },
      "source": [
        ""
      ],
      "execution_count": 0,
      "outputs": []
    }
  ]
}